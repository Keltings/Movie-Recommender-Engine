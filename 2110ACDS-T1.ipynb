{
 "cells": [
  {
   "cell_type": "markdown",
   "id": "b30c1e55",
   "metadata": {},
   "source": [
    "# MOVIE RECOMMENDATION 2022\n",
    "© Explore Data Science Academy\n",
    "\n",
    "<br></br>\n",
    "\n",
    "<div align=\"center\" style=\"width: 700px; font-size: 80%; text-align: center; margin-left: 100px\">\n",
    "<img src=\"resources/imgs/Image_header.png\"\n",
    "     alt=\"Collaborative-based Filtering - Utility Matrix\"\n",
    "     style=\"float: center; padding-bottom=0.5em\"\n",
    "     width=700px/>\n",
    "</div>"
   ]
  },
  {
   "cell_type": "markdown",
   "id": "04911866",
   "metadata": {},
   "source": [
    "#### Development Team\n",
    "\n",
    "1. Mercy Milkah Gathoni\n",
    "2. Linda Kelida\n",
    "3. Samuel Mijan\n",
    "4. Sipho Lukhele\n",
    "5. Jessica Njuguna"
   ]
  },
  {
   "cell_type": "markdown",
   "id": "3ed52c59",
   "metadata": {},
   "source": [
    "<a id=\"one\"></a>\n",
    "## 1. INTRODUCTION"
   ]
  },
  {
   "cell_type": "markdown",
   "id": "8879ed6b",
   "metadata": {},
   "source": []
  },
  {
   "cell_type": "markdown",
   "id": "5f12f946",
   "metadata": {},
   "source": [
    "### Problem Statement\n",
    "\n",
    "In today’s technology driven world, recommender systems are socially and economically critical to ensure that individuals can make optimised choices surrounding the content they engage with on a daily basis. One application where this is especially true is movie recommendations; where intelligent algorithms can help viewers find great titles from tens of thousands of options.\n",
    "\n",
    "With this context, EDSA is challenging you to construct a recommendation algorithm based on content or collaborative filtering, capable of accurately predicting how a user will rate a movie they have not yet viewed, based on their historical preferences.\n",
    "\n",
    "Providing an accurate and robust solution to this challenge has immense economic potential, with users of the system being personalised recommendations - generating platform affinity for the streaming services which best facilitates their audience's viewing."
   ]
  },
  {
   "cell_type": "markdown",
   "id": "e8f5a901",
   "metadata": {},
   "source": [
    "<a id=\"cont\"></a>\n",
    "### Table of Contents\n",
    "\n",
    "**<a href=#one>1. Introduction</a>**\n",
    "- Problem Statement\n",
    "- Table of Contents\n",
    "- Summary\n",
    "- Preliminary Activities\n",
    "\n",
    "\n",
    "**<a href=#two>2. Exploratory Data Analysis</a>**\n",
    "\n",
    "\n",
    "**<a href=#three>3. Feature Engineering</a>**\n",
    "- Dealing with Null Values\n",
    "- Data Scaling\n",
    "- Dimension Reduction\n",
    "\n",
    "\n",
    "**<a href=#four>4. Modelling</a>**\n",
    "- Logging Comet Experiments\n",
    "\n",
    "\n",
    "**<a href=#five>5. Model Perfomance Comparison</a>**\n",
    "\n",
    "\n",
    "**<a href=#six>6. Model Explanations</a>**\n",
    "\n",
    "\n",
    "**<a href=#seven>7. Conclusion</a>**\n",
    "\n",
    "\n",
    "**<a href=#eight>8. Appendix</a>**\n",
    "- Kaggle Submissions"
   ]
  },
  {
   "cell_type": "markdown",
   "id": "d23c04fc",
   "metadata": {},
   "source": [
    "### Summary"
   ]
  },
  {
   "cell_type": "markdown",
   "id": "b4cf6824",
   "metadata": {},
   "source": [
    "**Agenda:**"
   ]
  },
  {
   "cell_type": "markdown",
   "id": "f51bceb0",
   "metadata": {},
   "source": [
    "**Deliverables:**"
   ]
  },
  {
   "cell_type": "markdown",
   "id": "2cf5a753",
   "metadata": {},
   "source": [
    "**Results:**"
   ]
  },
  {
   "cell_type": "markdown",
   "id": "d5c61c29",
   "metadata": {},
   "source": [
    "### Preliminary Activities"
   ]
  },
  {
   "cell_type": "markdown",
   "id": "789e6429",
   "metadata": {},
   "source": [
    "#### Comet set up"
   ]
  },
  {
   "cell_type": "code",
   "execution_count": 6,
   "id": "d3f4f550",
   "metadata": {},
   "outputs": [],
   "source": [
    "from comet_ml import Experiment"
   ]
  },
  {
   "cell_type": "code",
   "execution_count": 7,
   "id": "f73165ed",
   "metadata": {},
   "outputs": [
    {
     "name": "stderr",
     "output_type": "stream",
     "text": [
      "COMET WARNING: As you are running in a Jupyter environment, you will need to call `experiment.end()` when finished to ensure all metrics and code are logged before exiting.\n",
      "COMET INFO: Experiment is live on comet.ml https://www.comet.ml/jessica-njuguna/movie-recommender-2022/be36105dd4534d9e87cb030e25209e76\n",
      "\n"
     ]
    }
   ],
   "source": [
    "experiment = Experiment(api_key=\"MHehhbanm9HbbvXptMjQ0hinn\",\n",
    "    project_name=\"movie-recommender-2022\",\n",
    "    workspace=\"jessica-njuguna\")"
   ]
  },
  {
   "cell_type": "markdown",
   "id": "be814393",
   "metadata": {},
   "source": [
    "#### Importing Packages"
   ]
  },
  {
   "cell_type": "code",
   "execution_count": 1,
   "id": "3c3fa325",
   "metadata": {},
   "outputs": [],
   "source": [
    "# Libraries for data loading, data manipulation\n",
    "import pandas as pd\n",
    "\n",
    "# Libraries for mathematical analyses\n",
    "import numpy as np\n",
    "\n",
    "#Libraries for Data visualization\n",
    "import matplotlib.pyplot as plt\n",
    "import seaborn as sns\n",
    "sns.set(font_scale = 1)\n",
    "# from wordcloud import WordCloud\n",
    "# from statsmodels.graphics.correlation import plot_corr\n",
    "# from PIL import Image, ImageOps, ImageEnhance, PILLOW_VERSION\n",
    "# from wordcloud import STOPWORDS\n",
    "\n",
    "# #Libraries to clean the text\n",
    "# import contractions #This expands contraction such as 'don't' to 'do not'\n",
    "# import regex as re\n",
    "# import string\n",
    "# import nltk\n",
    "# from nltk.tokenize import TreebankWordTokenizer\n",
    "# from nltk.stem import WordNetLemmatizer\n",
    "# from nltk.corpus import stopwords\n",
    "# import emoji #allows us to manipulate with emojis\n",
    "# import itertools\n",
    "\n",
    "# #Libraries for text pre-processing\n",
    "# from sklearn.feature_extraction.text import CountVectorizer\n",
    "# from sklearn.feature_extraction.text import TfidfVectorizer\n",
    "\n",
    "# #Libraries for data balancing\n",
    "# from imblearn.under_sampling import RandomUnderSampler\n",
    "# from imblearn.over_sampling import SMOTE\n",
    "\n",
    "\n",
    "# # Libraries for model building\n",
    "# from sklearn.model_selection import train_test_split\n",
    "# from sklearn.naive_bayes import BernoulliNB\n",
    "# from sklearn.naive_bayes import MultinomialNB\n",
    "# from sklearn.linear_model import LogisticRegression\n",
    "# from sklearn.svm import SVC\n",
    "# from sklearn.ensemble import RandomForestClassifier\n",
    "# from sklearn.model_selection import GridSearchCV\n",
    "\n",
    "# #Libraries for Model Performance\n",
    "# from sklearn.metrics import classification_report\n",
    "# from sklearn.metrics import f1_score, precision_score, recall_score, accuracy_score, confusion_matrix\n",
    "# from sklearn.tree import plot_tree\n",
    "\n",
    "#Library for creating pickle files of the models\n",
    "import pickle"
   ]
  },
  {
   "cell_type": "markdown",
   "id": "61d5308f",
   "metadata": {},
   "source": [
    "#### Importing Data"
   ]
  },
  {
   "cell_type": "code",
   "execution_count": 2,
   "id": "55b848f4",
   "metadata": {},
   "outputs": [],
   "source": [
    "raw_train_df = pd.read_csv('resources/data/train.csv')\n",
    "raw_test_df = pd.read_csv('resources/data/test.csv')\n",
    "raw_movies_df = pd.read_csv('resources/data/movies.csv')\n",
    "raw_tags_df = pd.read_csv('resources/data/tags.csv')\n",
    "raw_ratings_df = pd.read_csv('resources/data/ratings.csv')\n",
    "raw_links_df = pd.read_csv('resources/data/links.csv')\n",
    "raw_imdb_df = pd.read_csv('resources/data/imdb_data.csv')\n",
    "raw_getags_df = pd.read_csv('resources/data/genome_tags.csv')\n",
    "raw_gescores_df = pd.read_csv('resources/data/genome_scores.csv')"
   ]
  },
  {
   "cell_type": "markdown",
   "id": "5188a291",
   "metadata": {},
   "source": [
    "<a id=\"two\"></a>\n",
    "## 2. EXPLORATORY DATA ANALYSIS\n",
    "<a class=\"anchor\" id=\"1.1\"></a>\n",
    "<a href=#cont>Back to Table of Contents</a>"
   ]
  },
  {
   "cell_type": "code",
   "execution_count": null,
   "id": "de03618a",
   "metadata": {},
   "outputs": [],
   "source": []
  },
  {
   "cell_type": "markdown",
   "id": "aa96d769",
   "metadata": {},
   "source": [
    "<a id=\"three\"></a>\n",
    "## 3. FEATURE ENGINEERING\n",
    "<a class=\"anchor\" id=\"1.1\"></a>\n",
    "<a href=#cont>Back to Table of Contents</a>"
   ]
  },
  {
   "cell_type": "code",
   "execution_count": null,
   "id": "da07d5cf",
   "metadata": {},
   "outputs": [],
   "source": []
  },
  {
   "cell_type": "markdown",
   "id": "0402aed4",
   "metadata": {},
   "source": [
    "#### Dealing with Null Values"
   ]
  },
  {
   "cell_type": "code",
   "execution_count": null,
   "id": "9dd4dd99",
   "metadata": {},
   "outputs": [],
   "source": []
  },
  {
   "cell_type": "markdown",
   "id": "616d7117",
   "metadata": {},
   "source": [
    "#### Data Scaling"
   ]
  },
  {
   "cell_type": "code",
   "execution_count": null,
   "id": "49dc5ec1",
   "metadata": {},
   "outputs": [],
   "source": []
  },
  {
   "cell_type": "markdown",
   "id": "c63708ae",
   "metadata": {},
   "source": [
    "#### Dimension Reduction"
   ]
  },
  {
   "cell_type": "code",
   "execution_count": null,
   "id": "b252725c",
   "metadata": {},
   "outputs": [],
   "source": []
  },
  {
   "cell_type": "markdown",
   "id": "7411b769",
   "metadata": {},
   "source": [
    "<a id=\"four\"></a>\n",
    "## 4. MODELLING\n",
    "<a class=\"anchor\" id=\"1.1\"></a>\n",
    "<a href=#cont>Back to Table of Contents</a>"
   ]
  },
  {
   "cell_type": "code",
   "execution_count": null,
   "id": "4023b475",
   "metadata": {},
   "outputs": [],
   "source": []
  },
  {
   "cell_type": "markdown",
   "id": "03be715a",
   "metadata": {},
   "source": [
    "### Logging Experiments on Comet"
   ]
  },
  {
   "cell_type": "code",
   "execution_count": 8,
   "id": "0b68d015",
   "metadata": {},
   "outputs": [],
   "source": [
    "# params = {\"test_size\": 0.3,\n",
    "#           \"model_type\": \"Bernoulli-Naive_Bayes\",\n",
    "#           \"vectorizer\": \"tfidf vectorizer\",\n",
    "#           \"param_grid\": \"None\" ,\n",
    "#           \"stratify\": True\n",
    "#           }\n",
    "# metrics = {\"F1 score:\": bnb_f1,\n",
    "#            \"Recall:\": bnb_rec,\n",
    "#            \"Precision:\": bnb_prec,\n",
    "#            'Accuracy': bnb_acc\n",
    "#            }\n",
    "experiment_name = 'Comet Set Up'"
   ]
  },
  {
   "cell_type": "code",
   "execution_count": 9,
   "id": "3081500f",
   "metadata": {},
   "outputs": [
    {
     "name": "stderr",
     "output_type": "stream",
     "text": [
      "COMET INFO: ---------------------------\n",
      "COMET INFO: Comet.ml Experiment Summary\n",
      "COMET INFO: ---------------------------\n",
      "COMET INFO:   Data:\n",
      "COMET INFO:     display_summary_level : 1\n",
      "COMET INFO:     url                   : https://www.comet.ml/jessica-njuguna/movie-recommender-2022/be36105dd4534d9e87cb030e25209e76\n",
      "COMET INFO:   Others:\n",
      "COMET INFO:     Name : Comet Set Up\n",
      "COMET INFO:   Uploads:\n",
      "COMET INFO:     conda-environment-definition : 1\n",
      "COMET INFO:     conda-info                   : 1\n",
      "COMET INFO:     conda-specification          : 1\n",
      "COMET INFO:     environment details          : 1\n",
      "COMET INFO:     filename                     : 1\n",
      "COMET INFO:     git metadata                 : 1\n",
      "COMET INFO:     git-patch (uncompressed)     : 1 (10.63 MB)\n",
      "COMET INFO:     installed packages           : 1\n",
      "COMET INFO:     notebook                     : 1\n",
      "COMET INFO:     source_code                  : 1\n",
      "COMET INFO: ---------------------------\n",
      "COMET INFO: Uploading metrics, params, and assets to Comet before program termination (may take several seconds)\n",
      "COMET INFO: The Python SDK has 3600 seconds to finish before aborting...\n",
      "COMET INFO: Waiting for completion of the file uploads (may take several seconds)\n",
      "COMET INFO: The Python SDK has 10800 seconds to finish before aborting...\n",
      "COMET INFO: All files uploaded, waiting for confirmation they have been all received\n",
      "COMET INFO: All files uploaded, waiting for confirmation they have been all received\n",
      "COMET INFO: All files uploaded, waiting for confirmation they have been all received\n",
      "COMET INFO: All files uploaded, waiting for confirmation they have been all received\n",
      "COMET INFO: All files uploaded, waiting for confirmation they have been all received\n"
     ]
    }
   ],
   "source": [
    "experiment.set_name(experiment_name)\n",
    "# experiment.log_parameters(params)\n",
    "# experiment.log_metrics(metrics)\n",
    "experiment.end()"
   ]
  },
  {
   "cell_type": "markdown",
   "id": "17691d5b",
   "metadata": {},
   "source": [
    "<a id=\"five\"></a>\n",
    "## 5. MODEL PERFORMANCE COMPARISON\n",
    "<a class=\"anchor\" id=\"1.1\"></a>\n",
    "<a href=#cont>Back to Table of Contents</a>"
   ]
  },
  {
   "cell_type": "code",
   "execution_count": null,
   "id": "c36c15b9",
   "metadata": {},
   "outputs": [],
   "source": []
  },
  {
   "cell_type": "markdown",
   "id": "1d8a5a86",
   "metadata": {},
   "source": [
    "<a id=\"six\"></a>\n",
    "## 6. MODEL EXPLANATIONS\n",
    "<a class=\"anchor\" id=\"1.1\"></a>\n",
    "<a href=#cont>Back to Table of Contents</a>"
   ]
  },
  {
   "cell_type": "code",
   "execution_count": null,
   "id": "efd38925",
   "metadata": {},
   "outputs": [],
   "source": []
  },
  {
   "cell_type": "markdown",
   "id": "58bab8a7",
   "metadata": {},
   "source": [
    "<a id=\"seven\"></a>\n",
    "## 7. CONCLUSION\n",
    "<a class=\"anchor\" id=\"1.1\"></a>\n",
    "<a href=#cont>Back to Table of Contents</a>"
   ]
  },
  {
   "cell_type": "code",
   "execution_count": null,
   "id": "095601bb",
   "metadata": {},
   "outputs": [],
   "source": []
  },
  {
   "cell_type": "markdown",
   "id": "c15c3cee",
   "metadata": {},
   "source": [
    "<a id=\"eight\"></a>\n",
    "## 8. APPENDIX\n",
    "<a class=\"anchor\" id=\"1.1\"></a>\n",
    "<a href=#cont>Back to Table of Contents</a>"
   ]
  },
  {
   "cell_type": "code",
   "execution_count": null,
   "id": "698a899c",
   "metadata": {},
   "outputs": [],
   "source": []
  }
 ],
 "metadata": {
  "kernelspec": {
   "display_name": "Python 3 (ipykernel)",
   "language": "python",
   "name": "python3"
  },
  "language_info": {
   "codemirror_mode": {
    "name": "ipython",
    "version": 3
   },
   "file_extension": ".py",
   "mimetype": "text/x-python",
   "name": "python",
   "nbconvert_exporter": "python",
   "pygments_lexer": "ipython3",
   "version": "3.9.7"
  }
 },
 "nbformat": 4,
 "nbformat_minor": 5
}
